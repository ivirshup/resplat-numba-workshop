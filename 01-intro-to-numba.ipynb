{
 "cells": [
  {
   "cell_type": "markdown",
   "metadata": {},
   "source": [
    "# Motivating example"
   ]
  },
  {
   "cell_type": "code",
   "execution_count": null,
   "metadata": {},
   "outputs": [],
   "source": [
    "import numpy as np\n",
    "import numba"
   ]
  },
  {
   "cell_type": "code",
   "execution_count": null,
   "metadata": {},
   "outputs": [],
   "source": [
    "def mean_python(a):\n",
    "    total = 0\n",
    "    for i in a:\n",
    "        total += i\n",
    "    return total / len(a)\n",
    "\n",
    "def mean_numpy(a):\n",
    "    return np.mean(a)\n",
    "\n",
    "mean_numba = numba.jit(mean_python)"
   ]
  },
  {
   "cell_type": "markdown",
   "metadata": {},
   "source": [
    "Here, I'm using `numba.njit` as a function, but it's more common to see it used as a decroator. `mean_numba = numba.jit(mean_python)` is equivalent to:\n",
    "\n",
    "```python\n",
    "@numba.jit\n",
    "def mean_numba(a):\n",
    "    total = 0\n",
    "    for i in a:\n",
    "        total += i\n",
    "    return total / len(a)\n",
    "```"
   ]
  },
  {
   "cell_type": "code",
   "execution_count": null,
   "metadata": {},
   "outputs": [],
   "source": [
    "a = np.random.randint(1, 100, 1000000)"
   ]
  },
  {
   "cell_type": "code",
   "execution_count": null,
   "metadata": {},
   "outputs": [],
   "source": [
    "%time mean_python(a)"
   ]
  },
  {
   "cell_type": "code",
   "execution_count": null,
   "metadata": {},
   "outputs": [],
   "source": [
    "%time mean_numpy(a)"
   ]
  },
  {
   "cell_type": "code",
   "execution_count": null,
   "metadata": {},
   "outputs": [],
   "source": [
    "%time mean_numba(a)"
   ]
  },
  {
   "cell_type": "code",
   "execution_count": null,
   "metadata": {},
   "outputs": [],
   "source": [
    "%timeit mean_python(a)\n",
    "%timeit mean_numpy(a)\n",
    "%timeit mean_numba(a)"
   ]
  },
  {
   "cell_type": "markdown",
   "metadata": {},
   "source": [
    "# Why is numba fast"
   ]
  },
  {
   "cell_type": "markdown",
   "metadata": {},
   "source": [
    "For every instance of an object python has to figure out what type it is and how to perform the operation Numpy is able to skip all this by knowing the container only has one kind of object in it. This way it can just dispach to compiled code which performs a defined set of operations on those objects. Numba is able to look at python code and figure out what the fast cpu code would be. In practice, this means loops and flow control are no longer slow."
   ]
  },
  {
   "cell_type": "markdown",
   "metadata": {},
   "source": [
    "# Trying it out"
   ]
  },
  {
   "cell_type": "markdown",
   "metadata": {},
   "source": [
    "For a first go round, let's try extending the previous example.\n",
    "\n",
    "Something we often want to calculate along with the mean is the [variance](https://en.wikipedia.org/wiki/Variance).\n",
    "\n",
    "$$ Var(X) = (\\frac{1}{n}\\sum_{i=1}^n x_i^2) - \\mu^2$$\n",
    "\n",
    "Where $\\mu$ is the mean:\n",
    "\n",
    "$$ \\mu = \\frac{1}{n}\\sum_{i=1}^2 x_i $$\n",
    "\n",
    "Without taking using `np.mean` or `np.var`, given a two dimensional numpy array, calculate the mean and variance for each row in a single pass:"
   ]
  },
  {
   "cell_type": "code",
   "execution_count": null,
   "metadata": {},
   "outputs": [],
   "source": [
    "@numba.njit\n",
    "def meanvar(x):\n",
    "    # your code here\n",
    "    return mean, var"
   ]
  },
  {
   "cell_type": "code",
   "execution_count": null,
   "metadata": {},
   "outputs": [],
   "source": [
    "a = np.random.normal(1, 3, (100000))"
   ]
  },
  {
   "cell_type": "code",
   "execution_count": null,
   "metadata": {},
   "outputs": [],
   "source": [
    "# Test that should pass:\n",
    "np.allclose(meanvar(a), (np.mean(a), np.var(a)))"
   ]
  },
  {
   "cell_type": "code",
   "execution_count": null,
   "metadata": {},
   "outputs": [],
   "source": [
    "%timeit meanvar(a)"
   ]
  },
  {
   "cell_type": "code",
   "execution_count": null,
   "metadata": {},
   "outputs": [],
   "source": [
    "%timeit np.mean(a), np.var(a)"
   ]
  },
  {
   "cell_type": "markdown",
   "metadata": {},
   "source": [
    "## A bit more about `njit` and `jit`"
   ]
  },
  {
   "cell_type": "markdown",
   "metadata": {},
   "source": [
    "So what was this magic decorator that made the code so fast? It's a function which looks over the python byte code and translates it to LLVM IR. It [has a few options](https://numba.pydata.org/numba-doc/dev/user/jit.html) which modify how this is done:\n",
    "\n",
    "### `nopython=True`\n",
    "\n",
    "When you use the bare `@jit` decorator, numba will try to speed up the function, but won't throw an error if it fails. Passing `nopython=True` ensures that your function will be compilled, and is probably what you want. This is recommended so strongly that the also provide `njit` – which is equivalent to `@jit` with `nopython=True`. In the future, `nopython=True` will become the default for `@jit`.\n",
    "\n",
    "### `cache`\n",
    "\n",
    "As you saw above, numba only compiles a function once it is called. Unfortunatley, this means that everytime you restart python numba will need to compile a function again when it's called. Passing `cache=True` makes numba cache the compilled function to disk, so it doesn't need to compile again. This is useful for complicated functions, which can have compile times longer than their run time.\n",
    "\n",
    "### `parallel`\n",
    "\n",
    "A pretty cool option. If you pass this `numba` will try and make your code run across multiple threads. This is covered more by one of the challenges.\n",
    "\n",
    "### Explicit types (eager compilation)\n",
    "\n",
    "If you know the types you want to compile a method for, you can specify them by passing `numba` a type signature string. This is out of scope for todays workshop, but you can find out more [here](https://numba.pydata.org/numba-doc/dev/user/jit.html#eager-compilation)"
   ]
  },
  {
   "cell_type": "code",
   "execution_count": null,
   "metadata": {},
   "outputs": [],
   "source": []
  }
 ],
 "metadata": {
  "kernelspec": {
   "display_name": "Python3",
   "language": "python",
   "name": "python3"
  },
  "language_info": {
   "codemirror_mode": {
    "name": "ipython",
    "version": 3
   },
   "file_extension": ".py",
   "mimetype": "text/x-python",
   "name": "python",
   "nbconvert_exporter": "python",
   "pygments_lexer": "ipython3",
   "version": "3.7.3"
  },
  "toc": {
   "colors": {
    "hover_highlight": "#DAA520",
    "navigate_num": "#000000",
    "navigate_text": "#333333",
    "running_highlight": "#FF0000",
    "selected_highlight": "#FFD700",
    "sidebar_border": "#EEEEEE",
    "wrapper_background": "#FFFFFF"
   },
   "moveMenuLeft": true,
   "nav_menu": {
    "height": "47.647056579589844px",
    "width": "252.35293579101562px"
   },
   "navigate_menu": true,
   "number_sections": false,
   "sideBar": false,
   "threshold": 4,
   "toc_cell": false,
   "toc_section_display": "block",
   "toc_window_display": false,
   "widenNotebook": false
  }
 },
 "nbformat": 4,
 "nbformat_minor": 2
}
