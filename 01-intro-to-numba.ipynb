{
 "cells": [
  {
   "cell_type": "markdown",
   "metadata": {},
   "source": [
    "# Motivating example"
   ]
  },
  {
   "cell_type": "code",
   "execution_count": 1,
   "metadata": {},
   "outputs": [],
   "source": [
    "import numpy as np\n",
    "import numba"
   ]
  },
  {
   "cell_type": "code",
   "execution_count": 10,
   "metadata": {},
   "outputs": [],
   "source": [
    "def mean_python(a):\n",
    "    total = 0\n",
    "    for i in a:\n",
    "        total += i\n",
    "    return total / len(a)\n",
    "\n",
    "def mean_numpy(a):\n",
    "    return np.mean(a)\n",
    "\n",
    "mean_numba = numba.jit(mean_python)"
   ]
  },
  {
   "cell_type": "markdown",
   "metadata": {},
   "source": [
    "Here, I'm using `numba.njit` as a function, but it's more common to see it used as a decroator. `mean_numba = numba.jit(mean_python)` is equivalent to:\n",
    "\n",
    "```python\n",
    "@numba.jit\n",
    "def mean_numba(a):\n",
    "    total = 0\n",
    "    for i in a:\n",
    "        total += i\n",
    "    return total / len(a)\n",
    "```"
   ]
  },
  {
   "cell_type": "code",
   "execution_count": 7,
   "metadata": {},
   "outputs": [],
   "source": [
    "a = np.random.randint(1, 100, 1000000)"
   ]
  },
  {
   "cell_type": "code",
   "execution_count": null,
   "metadata": {},
   "outputs": [],
   "source": [
    "%time mean_python(a)\n",
    "%time mean_numpy(a)\n",
    "%time mean_numba(a)"
   ]
  },
  {
   "cell_type": "code",
   "execution_count": null,
   "metadata": {},
   "outputs": [],
   "source": [
    "%timeit mean_python(a)\n",
    "%timeit mean_numpy(a)\n",
    "%timeit mean_numba(a)"
   ]
  },
  {
   "cell_type": "code",
   "execution_count": 4,
   "metadata": {},
   "outputs": [],
   "source": [
    "mean_numba.inspect_types()"
   ]
  },
  {
   "cell_type": "markdown",
   "metadata": {},
   "source": [
    "# Why is numba fast"
   ]
  },
  {
   "cell_type": "markdown",
   "metadata": {},
   "source": [
    "Going over the previous example:\n",
    "\n",
    "For every instance of an object python has to figure out what type it is and how to perform the operation\n",
    "\n",
    "Numpy is able to skip all this by knowing the container only has one kind of object in it. This way it can just dispach to compiled code which performs a defined set of operations on those objects.\n",
    "\n",
    "Numba is able to look at python code and figure out what the fast cpu code would be. In practice, this means loops are no longer slow."
   ]
  },
  {
   "cell_type": "code",
   "execution_count": null,
   "metadata": {},
   "outputs": [],
   "source": []
  },
  {
   "cell_type": "markdown",
   "metadata": {},
   "source": [
    "# Trying it out"
   ]
  },
  {
   "cell_type": "markdown",
   "metadata": {},
   "source": [
    "For a first go round, let's try extending the previous example.\n",
    "\n",
    "Something we often want to calculate along with the mean is the [variance](https://en.wikipedia.org/wiki/Variance).\n",
    "\n",
    "$$ Var(X) = (\\frac{1}{n}\\sum_{i=1}^n x_i^2) - \\mu^2$$\n",
    "\n",
    "Where $\\mu$ is the mean:\n",
    "\n",
    "$$ \\mu = \\frac{1}{n}\\sum_{i=1}^2 x_i $$\n",
    "\n",
    "Without taking using `np.mean` or `np.var`, given a two dimensional numpy array, calculate the mean and variance for each row in a single pass:"
   ]
  },
  {
   "cell_type": "code",
   "execution_count": 28,
   "metadata": {},
   "outputs": [],
   "source": [
    "@numba.njit\n",
    "def meanvar(x):\n",
    "    sum = 0.\n",
    "    sumsqs = 0.\n",
    "    n = 0\n",
    "\n",
    "    for i in x:\n",
    "        sum += i\n",
    "        sumsqs += i ** 2\n",
    "        n += 1\n",
    "\n",
    "    mean = sum / n\n",
    "    var = (sumsqs / n) - (mean ** 2)\n",
    "    return mean, var"
   ]
  },
  {
   "cell_type": "code",
   "execution_count": 30,
   "metadata": {},
   "outputs": [],
   "source": [
    "a = np.random.normal(1, 3, (100000))"
   ]
  },
  {
   "cell_type": "code",
   "execution_count": 37,
   "metadata": {},
   "outputs": [
    {
     "data": {
      "text/plain": [
       "True"
      ]
     },
     "execution_count": 37,
     "metadata": {},
     "output_type": "execute_result"
    }
   ],
   "source": [
    "# Test that should pass:\n",
    "np.allclose(meanvar(a), (np.mean(a), np.var(a)))"
   ]
  },
  {
   "cell_type": "code",
   "execution_count": 31,
   "metadata": {},
   "outputs": [
    {
     "name": "stdout",
     "output_type": "stream",
     "text": [
      "84.8 µs ± 843 ns per loop (mean ± std. dev. of 7 runs, 10000 loops each)\n"
     ]
    }
   ],
   "source": [
    "%timeit meanvar(a)"
   ]
  },
  {
   "cell_type": "code",
   "execution_count": null,
   "metadata": {},
   "outputs": [],
   "source": [
    "%timeit np.mean(a), np.var(a)"
   ]
  },
  {
   "cell_type": "markdown",
   "metadata": {},
   "source": [
    "## A bit more about jit"
   ]
  },
  {
   "cell_type": "code",
   "execution_count": 2,
   "metadata": {},
   "outputs": [],
   "source": [
    "@numba.vectorize()\n",
    "def meanvar(x):\n",
    "    sum = 0.\n",
    "    sumsqs = 0.\n",
    "    n = 0\n",
    "\n",
    "    for i in x:\n",
    "        sum += i\n",
    "        sumsqs += i ** 2\n",
    "        n += 1\n",
    "\n",
    "    mean = sum / n\n",
    "    var = (sumsqs / n) - (mean ** 2)\n",
    "    return mean, var"
   ]
  },
  {
   "cell_type": "code",
   "execution_count": null,
   "metadata": {},
   "outputs": [],
   "source": []
  }
 ],
 "metadata": {
  "kernelspec": {
   "display_name": "Python3",
   "language": "python",
   "name": "python3"
  },
  "language_info": {
   "codemirror_mode": {
    "name": "ipython",
    "version": 3
   },
   "file_extension": ".py",
   "mimetype": "text/x-python",
   "name": "python",
   "nbconvert_exporter": "python",
   "pygments_lexer": "ipython3",
   "version": "3.7.3"
  },
  "toc": {
   "colors": {
    "hover_highlight": "#DAA520",
    "navigate_num": "#000000",
    "navigate_text": "#333333",
    "running_highlight": "#FF0000",
    "selected_highlight": "#FFD700",
    "sidebar_border": "#EEEEEE",
    "wrapper_background": "#FFFFFF"
   },
   "moveMenuLeft": true,
   "nav_menu": {
    "height": "47.647056579589844px",
    "width": "252.35293579101562px"
   },
   "navigate_menu": true,
   "number_sections": false,
   "sideBar": false,
   "threshold": 4,
   "toc_cell": false,
   "toc_section_display": "block",
   "toc_window_display": false,
   "widenNotebook": false
  }
 },
 "nbformat": 4,
 "nbformat_minor": 2
}
