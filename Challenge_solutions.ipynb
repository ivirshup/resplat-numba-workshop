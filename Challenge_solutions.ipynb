{
 "cells": [
  {
   "cell_type": "markdown",
   "metadata": {},
   "source": [
    "# Text documents"
   ]
  },
  {
   "cell_type": "code",
   "execution_count": null,
   "metadata": {},
   "outputs": [],
   "source": [
    "sections = np.split(sparsedata.indices, sparsedata.indptr[1:-1]) # Fast since it's all numpy"
   ]
  },
  {
   "cell_type": "code",
   "execution_count": null,
   "metadata": {},
   "outputs": [],
   "source": [
    "# This can be done faster, see UMAPs numba definitions for sparse distances\n",
    "@numba.njit\n",
    "def jaccard_similarity(a, b):\n",
    "    intersect = len(set(a).intersection(set(b)))\n",
    "    return intersect / (len(a) + len(b) - intersect)"
   ]
  },
  {
   "cell_type": "code",
   "execution_count": null,
   "metadata": {},
   "outputs": [],
   "source": [
    "@numba.njit(parallel=True)\n",
    "def pairwise_sections(sections, metric):\n",
    "    m = np.zeros((len(sections), len(sections)), dtype=np.float64)\n",
    "    for i in range(len(sections)):\n",
    "        sect1 = sections[i]\n",
    "        for j in numba.prange(i+1, len(sections)):\n",
    "            sect2 = sections[j]\n",
    "            m[i, j] = metric(sections[i], sections[j])\n",
    "    return m"
   ]
  },
  {
   "cell_type": "markdown",
   "metadata": {},
   "source": [
    "# dejong attractor\n",
    "\n",
    "Make the grid outside numba, since it's all fast and numpy anyways (pretty sure there are faster ways to do this though):"
   ]
  },
  {
   "cell_type": "code",
   "execution_count": null,
   "metadata": {},
   "outputs": [],
   "source": [
    "def grid(N):\n",
    "    cur = np.zeros((N, N, 2), dtype=np.float64)\n",
    "    cur[:, :, 0] = np.arange(N)[:, None] + np.zeros(N)\n",
    "    cur[:, :, 1] = np.arange(N) + np.zeros(N)[:, None]\n",
    "    return cur"
   ]
  },
  {
   "cell_type": "code",
   "execution_count": null,
   "metadata": {},
   "outputs": [],
   "source": [
    "@numba.njit(parallel=True)\n",
    "def dejong(m, a, b, c, d, it=8):\n",
    "    cur = m.copy()\n",
    "    prev = cur.copy()\n",
    "    for i in range(it):\n",
    "        prev[:] = cur[:]\n",
    "        cur[:, :, 0] = sin(a * prev[:, :, 1]) - cos(b * prev[:, :, 0]) / 2\n",
    "        cur[:, :, 1] = sin(c * prev[:, :, 0]) - cos(d * prev[:, :, 1]) / 2\n",
    "    return cur"
   ]
  }
 ],
 "metadata": {
  "kernelspec": {
   "display_name": "Python3",
   "language": "python",
   "name": "python3"
  },
  "language_info": {
   "codemirror_mode": {
    "name": "ipython",
    "version": 3
   },
   "file_extension": ".py",
   "mimetype": "text/x-python",
   "name": "python",
   "nbconvert_exporter": "python",
   "pygments_lexer": "ipython3",
   "version": "3.7.3"
  },
  "toc": {
   "colors": {
    "hover_highlight": "#DAA520",
    "navigate_num": "#000000",
    "navigate_text": "#333333",
    "running_highlight": "#FF0000",
    "selected_highlight": "#FFD700",
    "sidebar_border": "#EEEEEE",
    "wrapper_background": "#FFFFFF"
   },
   "moveMenuLeft": true,
   "nav_menu": {
    "height": "12px",
    "width": "252px"
   },
   "navigate_menu": true,
   "number_sections": false,
   "sideBar": false,
   "threshold": 4,
   "toc_cell": false,
   "toc_section_display": "block",
   "toc_window_display": false,
   "widenNotebook": false
  }
 },
 "nbformat": 4,
 "nbformat_minor": 2
}
